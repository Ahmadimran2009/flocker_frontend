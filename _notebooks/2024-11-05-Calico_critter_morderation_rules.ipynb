{
 "cells": [
  {
   "cell_type": "code",
   "execution_count": null,
   "metadata": {
    "vscode": {
     "languageId": "plaintext"
    }
   },
   "outputs": [],
   "source": [
    "---\n",
    "layout: post\n",
    "title: Moderator Rules\n",
    "description: Calico critter moderator rules!\n",
    "permalink: /moderation/calico_critter/\n",
    "toc: true\n",
    "comments: true\n",
    "author: Maryam A, Nora A, Kushi G, Joanna H\n",
    "---"
   ]
  },
  {
   "cell_type": "markdown",
   "metadata": {},
   "source": [
    "Rules are put in place to make this page a safe environment!\n",
    "\n",
    "  1. No cussing in the chats.\n",
    "  2. Stay on topic, Calico Critters only!\n",
    "  3. You have to be part of the DNHS Calico Critters club to join\n",
    "  4. You must have valid reasoning for your votes\n",
    "  5. Do not be toxic, negative, or attack others for their opinions."
   ]
  }
 ],
 "metadata": {
  "language_info": {
   "name": "python"
  }
 },
 "nbformat": 4,
 "nbformat_minor": 2
}
